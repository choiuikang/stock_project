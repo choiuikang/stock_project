{
 "cells": [
  {
   "cell_type": "markdown",
   "id": "3b569534",
   "metadata": {},
   "source": [
    "# [krx]데이터 자동 수집을 위한 가이드\n",
    "이번에는 주식 데이터를 자동 수집을 해보자. 이번은 간단하게 crontab를 사용해 매일 17시에 실행을 하여 주식 데이터를 수집 할 것이다. 지금은 한가지 주식을 해보지만 다음에는 여러가지의 주식 정보를 수집하는 방법을 블로깅 해보겠다.<br>목차는 다음과 같다.\n",
    "- 주피터 파일 생성 후 데이터 수집 코드 생성\n",
    "- 주피터 파일 파이썬 파일로 변경\n",
    "- crontab을 이용해 월~금 5시 주식 데이터 수집 \n",
    "\n",
    "# 1. 코드 작성"
   ]
  },
  {
   "cell_type": "markdown",
   "id": "e3cfacea",
   "metadata": {},
   "source": [
    "## 1-1 라이브러리 불러오기"
   ]
  },
  {
   "cell_type": "code",
   "execution_count": 2,
   "id": "36b9f155",
   "metadata": {},
   "outputs": [],
   "source": [
    "import pandas as pd\n",
    "import datetime\n",
    "import sqlite3 \n",
    "from pykrx import stock"
   ]
  },
  {
   "cell_type": "markdown",
   "id": "4bcb3802",
   "metadata": {},
   "source": [
    "## 1-2 datetime 불러오기"
   ]
  },
  {
   "cell_type": "code",
   "execution_count": 3,
   "id": "58695a4d",
   "metadata": {},
   "outputs": [
    {
     "data": {
      "text/plain": [
       "datetime.datetime(2021, 12, 10, 4, 33, 51, 579993)"
      ]
     },
     "execution_count": 3,
     "metadata": {},
     "output_type": "execute_result"
    }
   ],
   "source": [
    "today = datetime.datetime.now()\n",
    "today"
   ]
  },
  {
   "cell_type": "code",
   "execution_count": 4,
   "id": "59513a7f",
   "metadata": {},
   "outputs": [],
   "source": [
    "#datetime_df = pd.DataFrame({'year':[today.year],\n",
    "                          # 'month':[today.month],\n",
    "                          # 'day':[today.day],\n",
    "                          # 'hour':[today.hour],\n",
    "                          # 'minute':[today.minute]})"
   ]
  },
  {
   "cell_type": "code",
   "execution_count": 5,
   "id": "cc4fac39",
   "metadata": {},
   "outputs": [],
   "source": [
    "#datetime_df"
   ]
  },
  {
   "cell_type": "markdown",
   "id": "345cbc80",
   "metadata": {},
   "source": [
    "## 1-3 yesterday 데이터 추가"
   ]
  },
  {
   "cell_type": "code",
   "execution_count": 6,
   "id": "5c2b869b",
   "metadata": {},
   "outputs": [],
   "source": [
    "yesterday = today - datetime.timedelta(days=1)"
   ]
  },
  {
   "cell_type": "code",
   "execution_count": 7,
   "id": "f529f996",
   "metadata": {},
   "outputs": [
    {
     "data": {
      "text/plain": [
       "datetime.datetime(2021, 12, 9, 4, 33, 51, 579993)"
      ]
     },
     "execution_count": 7,
     "metadata": {},
     "output_type": "execute_result"
    }
   ],
   "source": [
    "yesterday"
   ]
  },
  {
   "cell_type": "markdown",
   "id": "9566339a",
   "metadata": {},
   "source": [
    "## 1-4 필요한 년,월,일 데이터 만들기"
   ]
  },
  {
   "cell_type": "code",
   "execution_count": 8,
   "id": "84e67bac",
   "metadata": {},
   "outputs": [],
   "source": [
    "yesterday = str(yesterday.year) + str(yesterday.month) + str(yesterday.day)\n",
    "today = str(today.year) + str(today.month) + str(today.day)"
   ]
  },
  {
   "cell_type": "code",
   "execution_count": 9,
   "id": "bbb45615",
   "metadata": {},
   "outputs": [
    {
     "data": {
      "text/plain": [
       "'2021129'"
      ]
     },
     "execution_count": 9,
     "metadata": {},
     "output_type": "execute_result"
    }
   ],
   "source": [
    "yesterday"
   ]
  },
  {
   "cell_type": "code",
   "execution_count": 10,
   "id": "a8bbd609",
   "metadata": {},
   "outputs": [
    {
     "data": {
      "text/plain": [
       "'20211210'"
      ]
     },
     "execution_count": 10,
     "metadata": {},
     "output_type": "execute_result"
    }
   ],
   "source": [
    "today"
   ]
  },
  {
   "cell_type": "markdown",
   "id": "7a9256f8",
   "metadata": {},
   "source": [
    "## 1-6 주식 데이터 불러오기\n",
    "get_market_ohlcv_by_date() 메서드를 사용해 데이터를 데이터 프레임 형태로 다운"
   ]
  },
  {
   "cell_type": "code",
   "execution_count": 11,
   "id": "428ddd89",
   "metadata": {},
   "outputs": [
    {
     "data": {
      "text/html": [
       "<div>\n",
       "<style scoped>\n",
       "    .dataframe tbody tr th:only-of-type {\n",
       "        vertical-align: middle;\n",
       "    }\n",
       "\n",
       "    .dataframe tbody tr th {\n",
       "        vertical-align: top;\n",
       "    }\n",
       "\n",
       "    .dataframe thead th {\n",
       "        text-align: right;\n",
       "    }\n",
       "</style>\n",
       "<table border=\"1\" class=\"dataframe\">\n",
       "  <thead>\n",
       "    <tr style=\"text-align: right;\">\n",
       "      <th></th>\n",
       "      <th>시가</th>\n",
       "      <th>고가</th>\n",
       "      <th>저가</th>\n",
       "      <th>종가</th>\n",
       "      <th>거래량</th>\n",
       "    </tr>\n",
       "    <tr>\n",
       "      <th>날짜</th>\n",
       "      <th></th>\n",
       "      <th></th>\n",
       "      <th></th>\n",
       "      <th></th>\n",
       "      <th></th>\n",
       "    </tr>\n",
       "  </thead>\n",
       "  <tbody>\n",
       "    <tr>\n",
       "      <th>2021-12-10</th>\n",
       "      <td>77400</td>\n",
       "      <td>77600</td>\n",
       "      <td>76800</td>\n",
       "      <td>76900</td>\n",
       "      <td>6252688</td>\n",
       "    </tr>\n",
       "  </tbody>\n",
       "</table>\n",
       "</div>"
      ],
      "text/plain": [
       "               시가     고가     저가     종가      거래량\n",
       "날짜                                             \n",
       "2021-12-10  77400  77600  76800  76900  6252688"
      ]
     },
     "execution_count": 11,
     "metadata": {},
     "output_type": "execute_result"
    }
   ],
   "source": [
    "df = stock.get_market_ohlcv_by_date(fromdate=yesterday, todate=today, ticker=\"005930\")\n",
    "df"
   ]
  },
  {
   "cell_type": "markdown",
   "id": "17c55a40",
   "metadata": {},
   "source": [
    "## 1-7 날짜 인덱스 컬럼으로 수정"
   ]
  },
  {
   "cell_type": "code",
   "execution_count": 12,
   "id": "4f58a1f0",
   "metadata": {},
   "outputs": [
    {
     "data": {
      "text/html": [
       "<div>\n",
       "<style scoped>\n",
       "    .dataframe tbody tr th:only-of-type {\n",
       "        vertical-align: middle;\n",
       "    }\n",
       "\n",
       "    .dataframe tbody tr th {\n",
       "        vertical-align: top;\n",
       "    }\n",
       "\n",
       "    .dataframe thead th {\n",
       "        text-align: right;\n",
       "    }\n",
       "</style>\n",
       "<table border=\"1\" class=\"dataframe\">\n",
       "  <thead>\n",
       "    <tr style=\"text-align: right;\">\n",
       "      <th></th>\n",
       "      <th>날짜</th>\n",
       "      <th>시가</th>\n",
       "      <th>고가</th>\n",
       "      <th>저가</th>\n",
       "      <th>종가</th>\n",
       "      <th>거래량</th>\n",
       "    </tr>\n",
       "  </thead>\n",
       "  <tbody>\n",
       "    <tr>\n",
       "      <th>0</th>\n",
       "      <td>2021-12-10</td>\n",
       "      <td>77400</td>\n",
       "      <td>77600</td>\n",
       "      <td>76800</td>\n",
       "      <td>76900</td>\n",
       "      <td>6252688</td>\n",
       "    </tr>\n",
       "  </tbody>\n",
       "</table>\n",
       "</div>"
      ],
      "text/plain": [
       "          날짜     시가     고가     저가     종가      거래량\n",
       "0 2021-12-10  77400  77600  76800  76900  6252688"
      ]
     },
     "execution_count": 12,
     "metadata": {},
     "output_type": "execute_result"
    }
   ],
   "source": [
    "df = df.reset_index()\n",
    "df"
   ]
  },
  {
   "cell_type": "markdown",
   "id": "0976f212",
   "metadata": {},
   "source": [
    "## 1-8 날짜 컬럼 추가\n",
    "sqlite3는 datetime 타입을 지원하지 않아 int 타입으로 수정하기위해 나누었다."
   ]
  },
  {
   "cell_type": "code",
   "execution_count": 13,
   "id": "be069c8f",
   "metadata": {},
   "outputs": [
    {
     "data": {
      "text/plain": [
       "(1, 9)"
      ]
     },
     "execution_count": 13,
     "metadata": {},
     "output_type": "execute_result"
    }
   ],
   "source": [
    "df[\"year\"] = df[\"날짜\"].dt.year\n",
    "df[\"month\"] = df[\"날짜\"].dt.month\n",
    "df[\"day\"] = df[\"날짜\"].dt.day\n",
    "df.shape"
   ]
  },
  {
   "cell_type": "code",
   "execution_count": 14,
   "id": "39d82210",
   "metadata": {},
   "outputs": [
    {
     "data": {
      "text/html": [
       "<div>\n",
       "<style scoped>\n",
       "    .dataframe tbody tr th:only-of-type {\n",
       "        vertical-align: middle;\n",
       "    }\n",
       "\n",
       "    .dataframe tbody tr th {\n",
       "        vertical-align: top;\n",
       "    }\n",
       "\n",
       "    .dataframe thead th {\n",
       "        text-align: right;\n",
       "    }\n",
       "</style>\n",
       "<table border=\"1\" class=\"dataframe\">\n",
       "  <thead>\n",
       "    <tr style=\"text-align: right;\">\n",
       "      <th></th>\n",
       "      <th>날짜</th>\n",
       "      <th>시가</th>\n",
       "      <th>고가</th>\n",
       "      <th>저가</th>\n",
       "      <th>종가</th>\n",
       "      <th>거래량</th>\n",
       "      <th>year</th>\n",
       "      <th>month</th>\n",
       "      <th>day</th>\n",
       "    </tr>\n",
       "  </thead>\n",
       "  <tbody>\n",
       "    <tr>\n",
       "      <th>0</th>\n",
       "      <td>2021-12-10</td>\n",
       "      <td>77400</td>\n",
       "      <td>77600</td>\n",
       "      <td>76800</td>\n",
       "      <td>76900</td>\n",
       "      <td>6252688</td>\n",
       "      <td>2021</td>\n",
       "      <td>12</td>\n",
       "      <td>10</td>\n",
       "    </tr>\n",
       "  </tbody>\n",
       "</table>\n",
       "</div>"
      ],
      "text/plain": [
       "          날짜     시가     고가     저가     종가      거래량  year  month  day\n",
       "0 2021-12-10  77400  77600  76800  76900  6252688  2021     12   10"
      ]
     },
     "execution_count": 14,
     "metadata": {},
     "output_type": "execute_result"
    }
   ],
   "source": [
    "df"
   ]
  },
  {
   "cell_type": "markdown",
   "id": "c30a1068",
   "metadata": {},
   "source": [
    "## 1-9 날짜 컬럼 삭제\n",
    "날짜 컬럼 삭제 inplace=True 명령어를 넣어주어야 데이터 프레임에 적용된다."
   ]
  },
  {
   "cell_type": "code",
   "execution_count": 15,
   "id": "c1364305",
   "metadata": {},
   "outputs": [],
   "source": [
    "df.drop([\"날짜\"], axis=1, inplace=True)"
   ]
  },
  {
   "cell_type": "code",
   "execution_count": 16,
   "id": "94d4cdfc",
   "metadata": {},
   "outputs": [
    {
     "data": {
      "text/html": [
       "<div>\n",
       "<style scoped>\n",
       "    .dataframe tbody tr th:only-of-type {\n",
       "        vertical-align: middle;\n",
       "    }\n",
       "\n",
       "    .dataframe tbody tr th {\n",
       "        vertical-align: top;\n",
       "    }\n",
       "\n",
       "    .dataframe thead th {\n",
       "        text-align: right;\n",
       "    }\n",
       "</style>\n",
       "<table border=\"1\" class=\"dataframe\">\n",
       "  <thead>\n",
       "    <tr style=\"text-align: right;\">\n",
       "      <th></th>\n",
       "      <th>시가</th>\n",
       "      <th>고가</th>\n",
       "      <th>저가</th>\n",
       "      <th>종가</th>\n",
       "      <th>거래량</th>\n",
       "      <th>year</th>\n",
       "      <th>month</th>\n",
       "      <th>day</th>\n",
       "    </tr>\n",
       "  </thead>\n",
       "  <tbody>\n",
       "    <tr>\n",
       "      <th>0</th>\n",
       "      <td>77400</td>\n",
       "      <td>77600</td>\n",
       "      <td>76800</td>\n",
       "      <td>76900</td>\n",
       "      <td>6252688</td>\n",
       "      <td>2021</td>\n",
       "      <td>12</td>\n",
       "      <td>10</td>\n",
       "    </tr>\n",
       "  </tbody>\n",
       "</table>\n",
       "</div>"
      ],
      "text/plain": [
       "      시가     고가     저가     종가      거래량  year  month  day\n",
       "0  77400  77600  76800  76900  6252688  2021     12   10"
      ]
     },
     "execution_count": 16,
     "metadata": {},
     "output_type": "execute_result"
    }
   ],
   "source": [
    "df"
   ]
  },
  {
   "cell_type": "markdown",
   "id": "58da1f01",
   "metadata": {},
   "source": [
    "# 2.SQlite3활용 db로 저장"
   ]
  },
  {
   "cell_type": "markdown",
   "id": "f736d653",
   "metadata": {},
   "source": [
    "## 2-1 DB 호출\n",
    "- crontab_db_stock가 없을 경우 새로 생성하며 연결\n",
    "- crontab_db_stock가 있을경우 해당 db로 연걸"
   ]
  },
  {
   "cell_type": "code",
   "execution_count": 17,
   "id": "ea83c1ad",
   "metadata": {},
   "outputs": [],
   "source": [
    "conn = sqlite3.connect(\"crontab_db_stock.db\")"
   ]
  },
  {
   "cell_type": "markdown",
   "id": "986c4f27",
   "metadata": {},
   "source": [
    "## 2-2.cursor 생성\n",
    "- conn.cursor을 통해 Cursor를 하나 생성"
   ]
  },
  {
   "cell_type": "code",
   "execution_count": 18,
   "id": "624eccdc",
   "metadata": {},
   "outputs": [],
   "source": [
    "cur = conn.cursor()"
   ]
  },
  {
   "cell_type": "markdown",
   "id": "0699116d",
   "metadata": {},
   "source": [
    "## 2-3.conn.execute를 통해 stock_data 테이블을 생성합니다."
   ]
  },
  {
   "cell_type": "code",
   "execution_count": 19,
   "id": "696013a4",
   "metadata": {},
   "outputs": [
    {
     "data": {
      "text/plain": [
       "<sqlite3.Cursor at 0x7fa9ef39a7a0>"
      ]
     },
     "execution_count": 19,
     "metadata": {},
     "output_type": "execute_result"
    }
   ],
   "source": [
    "conn.execute('CREATE TABLE IF NOT EXISTS stock_data(open int, High int,Low int, Closing int, Volumn int, year int,month int, day int)')"
   ]
  },
  {
   "cell_type": "markdown",
   "id": "ccaed954",
   "metadata": {},
   "source": [
    "## 2-4.data int 변경\n",
    "\n",
    "dataframe에서 데이터 선택수 int로 변경 (SQL 테이블 생성시 자료형을 INT 로 했기 때문)"
   ]
  },
  {
   "cell_type": "code",
   "execution_count": 20,
   "id": "4d861db5",
   "metadata": {},
   "outputs": [],
   "source": [
    "open_value = int(df['시가'])\n",
    "High_value = int(df['고가'])\n",
    "Low_value = int(df['저가'])\n",
    "Closing_value = int(df['종가'])\n",
    "Volumn_value = int(df['거래량'])\n",
    "year_value = int(df['year'])\n",
    "month_value = int(df['month'])\n",
    "day_value = int(df['day'])"
   ]
  },
  {
   "cell_type": "markdown",
   "id": "63c3e6f9",
   "metadata": {},
   "source": [
    "## 2-5.데이터 삽입 (insert)\n",
    "\n",
    "생성해둔 데이터 프레임 datetime_df에서 각각의 데이터를 삽입"
   ]
  },
  {
   "cell_type": "code",
   "execution_count": 21,
   "id": "a1fcbe53",
   "metadata": {},
   "outputs": [
    {
     "data": {
      "text/plain": [
       "<sqlite3.Cursor at 0x7fa9ef39a650>"
      ]
     },
     "execution_count": 21,
     "metadata": {},
     "output_type": "execute_result"
    }
   ],
   "source": [
    "cur.execute('INSERT INTO stock_data VALUES(:open, :High, :Low, :Closing, :Volumn, :year, :month, :day);',\n",
    "           {\"open\":open_value,\"High\":High_value,\"Low\":Low_value,\"Closing\":Closing_value,\"Volumn\":Volumn_value,\"year\":year_value,\n",
    "            \"month\":month_value,\"day\":day_value})"
   ]
  },
  {
   "cell_type": "markdown",
   "id": "6d9b3c5d",
   "metadata": {},
   "source": [
    "## 2-6 pandas사용하여 데이터 프레임 호출"
   ]
  },
  {
   "cell_type": "code",
   "execution_count": 22,
   "id": "f64bdac9",
   "metadata": {},
   "outputs": [],
   "source": [
    "# cur.execute를 이용해 SELECT 쿼리를 실행한다\n",
    "cur.execute(\"SELECT * FROM stock_data\")\n",
    "\n",
    "# 행 데이터를 가져오기\n",
    "rows = cur.fetchall()\n",
    "\n",
    "# columns열 이름을 가져오기\n",
    "cols = [column[0] for column in cur.description]\n",
    "\n",
    "# 코드를 활요하여 DataFrame을 만들어주기\n",
    "data_df = pd.DataFrame.from_records(data=rows, columns=cols)"
   ]
  },
  {
   "cell_type": "code",
   "execution_count": 23,
   "id": "f9b7aab3",
   "metadata": {},
   "outputs": [
    {
     "data": {
      "text/html": [
       "<div>\n",
       "<style scoped>\n",
       "    .dataframe tbody tr th:only-of-type {\n",
       "        vertical-align: middle;\n",
       "    }\n",
       "\n",
       "    .dataframe tbody tr th {\n",
       "        vertical-align: top;\n",
       "    }\n",
       "\n",
       "    .dataframe thead th {\n",
       "        text-align: right;\n",
       "    }\n",
       "</style>\n",
       "<table border=\"1\" class=\"dataframe\">\n",
       "  <thead>\n",
       "    <tr style=\"text-align: right;\">\n",
       "      <th></th>\n",
       "      <th>open</th>\n",
       "      <th>High</th>\n",
       "      <th>Low</th>\n",
       "      <th>Closing</th>\n",
       "      <th>Volumn</th>\n",
       "      <th>year</th>\n",
       "      <th>month</th>\n",
       "      <th>day</th>\n",
       "    </tr>\n",
       "  </thead>\n",
       "  <tbody>\n",
       "    <tr>\n",
       "      <th>0</th>\n",
       "      <td>77400</td>\n",
       "      <td>77600</td>\n",
       "      <td>76800</td>\n",
       "      <td>76900</td>\n",
       "      <td>6252688</td>\n",
       "      <td>2021</td>\n",
       "      <td>12</td>\n",
       "      <td>10</td>\n",
       "    </tr>\n",
       "  </tbody>\n",
       "</table>\n",
       "</div>"
      ],
      "text/plain": [
       "    open   High    Low  Closing   Volumn  year  month  day\n",
       "0  77400  77600  76800    76900  6252688  2021     12   10"
      ]
     },
     "execution_count": 23,
     "metadata": {},
     "output_type": "execute_result"
    }
   ],
   "source": [
    "data_df"
   ]
  },
  {
   "cell_type": "markdown",
   "id": "b82e73ae",
   "metadata": {},
   "source": [
    "## 2-7.변경사항 저장 (commit)"
   ]
  },
  {
   "cell_type": "code",
   "execution_count": 24,
   "id": "a7239a4b",
   "metadata": {},
   "outputs": [],
   "source": [
    "conn.commit()"
   ]
  },
  {
   "cell_type": "markdown",
   "id": "cd15da87",
   "metadata": {},
   "source": [
    "## 2-7.DB 종료"
   ]
  },
  {
   "cell_type": "code",
   "execution_count": 25,
   "id": "234244c2",
   "metadata": {},
   "outputs": [],
   "source": [
    "conn.close()"
   ]
  },
  {
   "cell_type": "markdown",
   "id": "c93601cb",
   "metadata": {},
   "source": [
    "# 3.크론탭 사용"
   ]
  },
  {
   "cell_type": "markdown",
   "id": "88ca7e0d",
   "metadata": {},
   "source": [
    "## 3-1.주피터 파일 파이썬으로 변경"
   ]
  },
  {
   "cell_type": "markdown",
   "id": "0b305b09",
   "metadata": {},
   "source": [
    "$ jupyter nbconvert --to script [파일명].ipynb "
   ]
  },
  {
   "cell_type": "markdown",
   "id": "2ce662cc",
   "metadata": {},
   "source": [
    "자 이렇게 파이썬 파일로 변경 후 크론탭으로 주기 설정 및 코드 입력을 해보도록 하자."
   ]
  },
  {
   "attachments": {
    "image.png": {
     "image/png": "[encoded data removed]"
    }
   },
   "cell_type": "markdown",
   "id": "8bc842d2",
   "metadata": {},
   "source": [
    "## 3-2 리눅스 명령어 설정\n",
    "![image.png](attachment:image.png)\n",
    "- corntab - e 코드로 크론탭 설정창 이동 후 제일 밑으로 내려가 명령어 입력!\n",
    "- 설정창 입력 방법은 a를 눌러 INSERT 모드 변경 후 입력\n",
    "- 저장 후 나가는 방법은 Esc -> : -> wq(저장하고 나가기) -> Enter 나가기!\n",
    "- 주기 설정 월요일~금요일 17시 마다 실행"
   ]
  },
  {
   "attachments": {
    "image.png": {
     "image/png": "[encoded data removed]"
    }
   },
   "cell_type": "markdown",
   "id": "8de9b019",
   "metadata": {},
   "source": [
    "# 4. DB 확인\n",
    "![image.png](attachment:image.png)"
   ]
  },
  {
   "cell_type": "markdown",
   "id": "869405c8",
   "metadata": {},
   "source": [
    "내일 17시에 잘 실행되기를 기도하며!!!!! 마무리!!!!"
   ]
  },
  {
   "cell_type": "markdown",
   "id": "091df281",
   "metadata": {},
   "source": [
    "이렇게 마무리를 하고 이번에 sqlte3를 이용하여 DB에 자동으로 적재하는 법을 해보았다. 지금은 한가지 주식 정보를 적재하지만 다음에는 더 많은 정보를 적재해보자. "
   ]
  }
 ],
 "metadata": {
  "kernelspec": {
   "display_name": "Python 3 (ipykernel)",
   "language": "python",
   "name": "python3"
  },
  "language_info": {
   "codemirror_mode": {
    "name": "ipython",
    "version": 3
   },
   "file_extension": ".py",
   "mimetype": "text/x-python",
   "name": "python",
   "nbconvert_exporter": "python",
   "pygments_lexer": "ipython3",
   "version": "3.8.12"
  }
 },
 "nbformat": 4,
 "nbformat_minor": 5
}
